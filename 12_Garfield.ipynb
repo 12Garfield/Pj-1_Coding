{
  "nbformat": 4,
  "nbformat_minor": 0,
  "metadata": {
    "colab": {
      "provenance": [],
      "authorship_tag": "ABX9TyNMprGsjbdX3eCYFkE9CZsB",
      "include_colab_link": true
    },
    "kernelspec": {
      "name": "python3",
      "display_name": "Python 3"
    },
    "language_info": {
      "name": "python"
    }
  },
  "cells": [
    {
      "cell_type": "markdown",
      "metadata": {
        "id": "view-in-github",
        "colab_type": "text"
      },
      "source": [
        "<a href=\"https://colab.research.google.com/github/12Garfield/Pj-1_Coding/blob/main/12_Garfield.ipynb\" target=\"_parent\"><img src=\"https://colab.research.google.com/assets/colab-badge.svg\" alt=\"Open In Colab\"/></a>"
      ]
    },
    {
      "cell_type": "markdown",
      "source": [
        "### เลขที่ 12 กาฟิว ธนกฤต ธรรมเจริญ\n",
        "No.12 Garfield Tanakrit Thamcharoen"
      ],
      "metadata": {
        "id": "1Qi8NeG0cUMA"
      }
    },
    {
      "cell_type": "code",
      "source": [
        "print(\"Dkab garfield na kab\")"
      ],
      "metadata": {
        "id": "iChqc9DNdb8Q"
      },
      "execution_count": null,
      "outputs": []
    },
    {
      "cell_type": "markdown",
      "source": [
        "## 20 พฤษภาคม 2567\n",
        "ลองใช้คำสั่ง\"print\"เพื่อพิมพ์แสดงข้อความ เป็นการใช้ในรูปแบบ\"String\"และตามโจทย์ที่ครูได้มอบหมายให้"
      ],
      "metadata": {
        "id": "LIvm7tPxD5-T"
      }
    },
    {
      "cell_type": "code",
      "source": [
        "print(\"\"\"    *\n",
        "*              *            *\n",
        "                *\"\"\")"
      ],
      "metadata": {
        "id": "vjY_VNkODNXo"
      },
      "execution_count": null,
      "outputs": []
    },
    {
      "cell_type": "markdown",
      "source": [
        "## 29/5/67\n",
        "\n",
        "-ได้เรียนเรื่องการกำหนดตัวแปร\n",
        "\n",
        "-ได้รู้ว่า type คือคำสั่งแสดงประเภทของข้อมูล"
      ],
      "metadata": {
        "id": "scYlnJJTZO0V"
      }
    },
    {
      "cell_type": "code",
      "source": [
        "a = 2\n",
        "b = 1.5\n",
        "c = \"Garfield\"\n",
        "\n",
        "type(c)\n",
        "\n",
        "print(\"ตัวแปรที่ฉันคิด คือ weight\")"
      ],
      "metadata": {
        "id": "QIKMw2EjZMvH"
      },
      "execution_count": null,
      "outputs": []
    },
    {
      "cell_type": "code",
      "source": [
        "numeric1 = 5\n",
        "print(\"numeric1\")\n",
        "type(numeric1)"
      ],
      "metadata": {
        "id": "lIhI4VIhkR7D"
      },
      "execution_count": null,
      "outputs": []
    },
    {
      "cell_type": "markdown",
      "source": [
        "## 5/6/67\n",
        "ได้เรียนรู้วิธีใช้ Index คือการเขียนเลขใน [ ] จะแสดงตัวอัษรที่เป็นตัวแปรเช่น  [0] ของ Tim จะได้ออกมาเป็น T"
      ],
      "metadata": {
        "id": "eJ4lCfATWvKy"
      }
    },
    {
      "cell_type": "code",
      "source": [
        "string1 = 'Python'\n",
        "print(string1[0])"
      ],
      "metadata": {
        "id": "H_T9GO82Ye-L"
      },
      "execution_count": null,
      "outputs": []
    },
    {
      "cell_type": "markdown",
      "source": [
        "ระบุความสัมพันธ์ของคอมพิวเตอร์ กับการเขียนโปรแกรมโจทย์ดังกล่าว\n",
        "\n",
        "-Input = string1 = 'Python'\n",
        "\n",
        "-Process = print\n",
        "\n",
        "-Output = P"
      ],
      "metadata": {
        "id": "aXWOotcifxQH"
      }
    },
    {
      "cell_type": "code",
      "source": [
        "name = input(\"กรุณากรอกชื่อ\\n\")\n",
        "print(\"ยินดีที่ได้รู้จักครับ\" name)"
      ],
      "metadata": {
        "id": "m6w2b1djumaC"
      },
      "execution_count": null,
      "outputs": []
    },
    {
      "cell_type": "markdown",
      "source": [],
      "metadata": {
        "id": "-_xhCrnPunzh"
      }
    },
    {
      "cell_type": "code",
      "source": [
        "side = int(input(\"ความยาวด้าน (ซม.) คือ \"))\n",
        "\n",
        "area = side * side\n",
        "\n",
        "print(\"พื้นที่สี่เหลี่ยม เท่ากับ\" ,area, \" ตร.ซม.\")"
      ],
      "metadata": {
        "id": "d-YHNk57y5g0"
      },
      "execution_count": null,
      "outputs": []
    },
    {
      "cell_type": "code",
      "source": [
        "wide = int(input(\"ความกว้าง (ซม.) คือ \"))\n",
        "\n",
        "lenght = int(input(\"ความยาว (ซม.) คือ \"))\n",
        "\n",
        "area = wide * lenght\n",
        "\n",
        "print(\"พื้นที่สี่เหลี่ยมผืนผ้า เท่ากับ \" ,area, \" ตร.ซม.\")"
      ],
      "metadata": {
        "id": "C06kAOJtP6_l"
      },
      "execution_count": null,
      "outputs": []
    },
    {
      "cell_type": "code",
      "source": [
        "s = int(input(\"ระยะทาง (เมตร) คือ \"))\n",
        "\n",
        "t = int(input(\"เวลา (วินาที) คือ \"))\n",
        "\n",
        "v = s / t\n",
        "\n",
        "print(\"อัตราเร็ว เท่ากับ\" ,v, \" เมตร/วินาที\")"
      ],
      "metadata": {
        "id": "hYuQAIx_SCnb"
      },
      "execution_count": null,
      "outputs": []
    },
    {
      "cell_type": "code",
      "source": [
        " = int(input(\"ระยะทาง (เมตร) คือ \"))"
      ],
      "metadata": {
        "id": "UruwsWI7ZMlh"
      },
      "execution_count": null,
      "outputs": []
    }
  ]
}